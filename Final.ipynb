{
  "nbformat": 4,
  "nbformat_minor": 0,
  "metadata": {
    "kernelspec": {
      "display_name": "Python 3",
      "language": "python",
      "name": "python3"
    },
    "language_info": {
      "codemirror_mode": {
        "name": "ipython",
        "version": 3
      },
      "file_extension": ".py",
      "mimetype": "text/x-python",
      "name": "python",
      "nbconvert_exporter": "python",
      "pygments_lexer": "ipython3",
      "version": "3.6.7"
    },
    "colab": {
      "name": "Final.ipynb",
      "provenance": [],
      "collapsed_sections": []
    },
    "accelerator": "GPU"
  },
  "cells": [
    {
      "cell_type": "markdown",
      "metadata": {
        "id": "fTHC19r4BQre"
      },
      "source": [
        "# Download and install required packages"
      ]
    },
    {
      "cell_type": "code",
      "metadata": {
        "id": "Vpj0ODW4iHv1"
      },
      "source": [
        "# import scipy\n",
        "# scipy.__version__"
      ],
      "execution_count": null,
      "outputs": []
    },
    {
      "cell_type": "code",
      "metadata": {
        "id": "5kXO9e6ZUgQ9"
      },
      "source": [
        "# !pip install gdown\n",
        "# !pip install Pillow\n",
        "# !pip install imageio"
      ],
      "execution_count": null,
      "outputs": []
    },
    {
      "cell_type": "code",
      "metadata": {
        "colab": {
          "base_uri": "https://localhost:8080/"
        },
        "id": "4GauOXKnbqAX",
        "outputId": "c10f3dd4-f74c-4be8-9f4b-4e9454f1624a"
      },
      "source": [
        "# from google.colab import drive\n",
        "# drive.mount('/content/drive')"
      ],
      "execution_count": null,
      "outputs": [
        {
          "output_type": "stream",
          "text": [
            "Mounted at /content/drive\n"
          ],
          "name": "stdout"
        }
      ]
    },
    {
      "cell_type": "markdown",
      "metadata": {
        "id": "SBsSUt98H_Im"
      },
      "source": [
        "# download final dataset"
      ]
    },
    {
      "cell_type": "code",
      "metadata": {
        "id": "3Bqde2mYn_Vq"
      },
      "source": [
        "import gdown \n",
        "url = 'https://drive.google.com/u/0/uc?export=download&confirm=GhvJ&id=1-Lwq3puZHwM-BIarLlUOPxc4BC2VwFgf' \n",
        "output = 'final.zip' \n",
        "gdown.download(url, output, quiet=False) "
      ],
      "execution_count": null,
      "outputs": []
    },
    {
      "cell_type": "code",
      "metadata": {
        "colab": {
          "base_uri": "https://localhost:8080/"
        },
        "id": "RaZDwoWrm80S",
        "outputId": "f4a58499-383f-491f-8453-ac964c9bc525"
      },
      "source": [
        "# check integrity of dataset\n",
        "!md5sum drive/MyDrive/GR_phase2/final.zip"
      ],
      "execution_count": null,
      "outputs": [
        {
          "output_type": "stream",
          "text": [
            "dfd6817819611f358327501f6e551a30  drive/MyDrive/GR_phase2/final.zip\n"
          ],
          "name": "stdout"
        }
      ]
    },
    {
      "cell_type": "code",
      "metadata": {
        "id": "jIN-R5s5I4oA"
      },
      "source": [
        "# unzip\n",
        "!unzip -q final.zip"
      ],
      "execution_count": null,
      "outputs": []
    },
    {
      "cell_type": "code",
      "metadata": {
        "colab": {
          "base_uri": "https://localhost:8080/"
        },
        "id": "olcXwb_cKAHn",
        "outputId": "524bd88d-4a02-4f3b-82a3-7fbe3b714b1a"
      },
      "source": [
        "!ls"
      ],
      "execution_count": null,
      "outputs": [
        {
          "output_type": "stream",
          "text": [
            "datasets  drive  final.zip  sample_data\n"
          ],
          "name": "stdout"
        }
      ]
    },
    {
      "cell_type": "markdown",
      "metadata": {
        "id": "lqvVjBe_SZdg"
      },
      "source": [
        "# Imports "
      ]
    },
    {
      "cell_type": "code",
      "metadata": {
        "collapsed": true,
        "id": "zyDig3-9SZdq"
      },
      "source": [
        "import numpy as np\n",
        "import os\n",
        "import datetime\n",
        "import os\n",
        "import warnings\n",
        "warnings.filterwarnings(\"ignore\")\n",
        "import abc\n",
        "from sys import getsizeof\n",
        "from PIL import Image\n",
        "np.random.seed(30)\n",
        "import random as rn\n",
        "rn.seed(30)\n",
        "\n",
        "import os\n",
        "from glob import glob\n",
        "\n",
        "from keras import backend as K\n",
        "import tensorflow as tf\n",
        "tf.random.set_seed(1234)\n",
        "\n",
        "import cv2\n",
        "import matplotlib.pyplot as plt\n",
        "% matplotlib inline\n",
        "\n",
        "from keras.models import Sequential, Model\n",
        "from keras.layers import Dense, GRU, Flatten, TimeDistributed, Flatten, BatchNormalization, Activation\n",
        "from keras.layers.convolutional import Conv3D, MaxPooling3D, Conv2D, MaxPooling2D\n",
        "from keras.layers.recurrent import LSTM\n",
        "from keras.callbacks import ModelCheckpoint, ReduceLROnPlateau\n",
        "from keras import optimizers\n",
        "from keras.layers import Dropout\n",
        "\n",
        "import imageio\n",
        "from PIL import Image\n",
        "\n",
        "import time\n",
        "from keras.models import load_model\n",
        "\n",
        "from keras.applications import mobilenet\n"
      ],
      "execution_count": null,
      "outputs": []
    },
    {
      "cell_type": "code",
      "metadata": {
        "colab": {
          "base_uri": "https://localhost:8080/"
        },
        "id": "ZuUf2sjRdz0y",
        "outputId": "858993de-0500-4392-94bd-b8bae6cbd111"
      },
      "source": [
        "try:\n",
        "    device_name = tf.test.gpu_device_name()\n",
        "    print(\"Tensorflow version \" + tf.__version__)\n",
        "\n",
        "    if device_name == '/device:GPU:0':\n",
        "        print('Found GPU at: {}'.format(device_name))\n",
        "except:\n",
        "    pass\n",
        "\n",
        "try:\n",
        "    tpu = tf.distribute.cluster_resolver.TPUClusterResolver()  # TPU detection\n",
        "    print('Running on TPU ', tpu.cluster_spec().as_dict()['worker'])\n",
        "    tf.config.experimental_connect_to_cluster(tpu)\n",
        "    tf.tpu.experimental.initialize_tpu_system(tpu)\n",
        "    tpu_strategy = tf.distribute.experimental.TPUStrategy(tpu)\n",
        "except:\n",
        "    pass\n"
      ],
      "execution_count": null,
      "outputs": [
        {
          "output_type": "stream",
          "text": [
            "Tensorflow version 2.4.1\n",
            "Found GPU at: /device:GPU:0\n"
          ],
          "name": "stdout"
        }
      ]
    },
    {
      "cell_type": "code",
      "metadata": {
        "collapsed": true,
        "id": "HTRtutOXSZdw"
      },
      "source": [
        "def plot(history):\n",
        "    fig, axes = plt.subplots(nrows=1, ncols=2, figsize=(15,4))\n",
        "    axes[0].plot(history.history['loss'])   \n",
        "    axes[0].plot(history.history['val_loss'])\n",
        "    axes[0].legend(['loss','val_loss'])\n",
        "\n",
        "    axes[1].plot(history.history['categorical_accuracy'])   \n",
        "    axes[1].plot(history.history['val_categorical_accuracy'])\n",
        "    axes[1].legend(['categorical_accuracy','val_categorical_accuracy'])"
      ],
      "execution_count": null,
      "outputs": []
    },
    {
      "cell_type": "markdown",
      "metadata": {
        "id": "K0Yr82M29vIR"
      },
      "source": [
        "# Phase 2"
      ]
    },
    {
      "cell_type": "markdown",
      "metadata": {
        "id": "fRZEECbhLR8V"
      },
      "source": [
        "## Model"
      ]
    },
    {
      "cell_type": "code",
      "metadata": {
        "id": "6q8bXF5c90yu"
      },
      "source": [
        "class CMAugmentation(metaclass= abc.ABCMeta):\n",
        "    \n",
        "    def initialize_path(self, train_path=\"datasets/train\", val_path=\"datasets/test\"):\n",
        "        self.train_path = train_path\n",
        "        self.val_path = val_path\n",
        "        tras = [y for x in os.walk(train_path) for y in glob(os.path.join(x[0], '*.jpg'))]\n",
        "        vals = [y for x in os.walk(val_path) for y in glob(os.path.join(x[0], '*.jpg'))]\n",
        "        self.train_doc = np.random.permutation(tras)\n",
        "        self.val_doc = np.random.permutation(vals)\n",
        "        self.num_train_sequences = len(self.train_doc)\n",
        "        self.num_val_sequences = len(self.val_doc)\n",
        "        \n",
        "    def initialize_image_properties(self,image_height=200,image_width=200):\n",
        "        self.image_height=image_height\n",
        "        self.image_width=image_width\n",
        "        self.channels=3\n",
        "        self.num_classes=29\n",
        "          \n",
        "    def initialize_hyperparams(self,batch_size=20,num_epochs=20):\n",
        "        self.batch_size=batch_size\n",
        "        self.num_epochs=num_epochs\n",
        "        \n",
        "    def generator(self,source_path, folder_list, augment=False):\n",
        "        batch_size=self.batch_size\n",
        "        while True:\n",
        "            t = np.random.permutation(folder_list)\n",
        "            num_batches = len(t)//batch_size\n",
        "        \n",
        "            for batch in range(num_batches): \n",
        "                batch_data, batch_labels= self.one_batch_data(source_path,t,batch,batch_size,augment)\n",
        "                yield batch_data, batch_labels \n",
        "\n",
        "            remaining_seq=len(t)%batch_size\n",
        "        \n",
        "            if (remaining_seq != 0):\n",
        "                batch_data, batch_labels= self.one_batch_data(source_path,t,num_batches,batch_size,augment,remaining_seq)\n",
        "                yield batch_data, batch_labels \n",
        "    \n",
        "    \n",
        "    def one_batch_data(self,source_path,t,batch,batch_size,augment,remaining_seq=0):\n",
        "    \n",
        "        seq_len = remaining_seq if remaining_seq else batch_size\n",
        "    \n",
        "        batch_data = np.zeros((seq_len,self.image_height,self.image_width,self.channels)) \n",
        "        batch_labels = np.zeros((seq_len,self.num_classes)) \n",
        "    \n",
        "        if (augment): batch_data_aug = np.zeros((seq_len,self.image_height,self.image_width,self.channels))\n",
        "\n",
        "        \n",
        "        for folder in range(seq_len): \n",
        "\n",
        "            image = imageio.imread(t[folder + (batch*batch_size)])\n",
        "            image_resized=np.array((Image.fromarray(image).resize(size=(self.image_height,self.image_width)))).astype(np.float32)\n",
        "\n",
        "            batch_data[folder,:,:,0] = (image_resized[:,:,0])/255\n",
        "            batch_data[folder,:,:,1] = (image_resized[:,:,1])/255\n",
        "            batch_data[folder,:,:,2] = (image_resized[:,:,2])/255\n",
        "        \n",
        "            if (augment):\n",
        "                shifted = cv2.warpAffine(image, \n",
        "                                            np.float32([[1, 0, np.random.randint(-30,30)],[0, 1, np.random.randint(-30,30)]]), \n",
        "                                        (image.shape[1], image.shape[0]))\n",
        "                \n",
        "                gray = cv2.cvtColor(shifted,cv2.COLOR_BGR2GRAY)\n",
        "\n",
        "                x0, y0 = np.argwhere(gray > 0).min(axis=0)\n",
        "                x1, y1 = np.argwhere(gray > 0).max(axis=0) \n",
        "                \n",
        "                cropped=shifted[x0:x1,y0:y1,:]\n",
        "                \n",
        "                image_resized = np.array((Image.fromarray(cropped.astype(np.uint8)).resize(size=(self.image_height,self.image_width))))\n",
        " \n",
        "                M = cv2.getRotationMatrix2D((self.image_width//2,self.image_height//2),\n",
        "                                            np.random.randint(-10,10), 1.0)\n",
        "                rotated = cv2.warpAffine(image_resized, M, (self.image_width, self.image_height))\n",
        "        \n",
        "                batch_data_aug[folder,:,:,0] = (rotated[:,:,0])/255\n",
        "                batch_data_aug[folder,:,:,1] = (rotated[:,:,1])/255\n",
        "                batch_data_aug[folder,:,:,2] = (rotated[:,:,2])/255\n",
        "\n",
        "            if str.isupper(t[folder + (batch*batch_size)].strip().split('/')[-1][2]):\n",
        "                batch_labels[folder, ord(t[folder + (batch*batch_size)].strip().split('/')[-1][2])-ord('A')] = 1\n",
        "            elif t[folder + (batch*batch_size)].strip().split('/')[-1][2] == 'n':\n",
        "                batch_labels[folder, 26] = 1\n",
        "            elif t[folder + (batch*batch_size)].strip().split('/')[-1][2] == 'd':\n",
        "                batch_labels[folder, 27] = 1\n",
        "            elif t[folder + (batch*batch_size)].strip().split('/')[-1][2] == 's':\n",
        "                batch_labels[folder, 28] = 1\n",
        "    \n",
        "        if (augment):\n",
        "            batch_data=np.concatenate([batch_data,batch_data_aug])\n",
        "            batch_labels=np.concatenate([batch_labels,batch_labels])\n",
        "        \n",
        "        return(batch_data,batch_labels)\n",
        "    \n",
        "    \n",
        "    def train_model(self, model, augment_data=False):\n",
        "        train_generator = self.generator(self.train_path, self.train_doc,augment=augment_data)\n",
        "        val_generator = self.generator(self.val_path, self.val_doc)\n",
        "\n",
        "        model_name = 'models/' + 'model_init' + '_' + str(datetime.datetime.now()).replace(' ','').replace(':','_') + '/'\n",
        "    \n",
        "        if not os.path.exists(\"models\"):\n",
        "            os.mkdir(\"models\")\n",
        "\n",
        "        if not os.path.exists(model_name):\n",
        "            os.mkdir(model_name)\n",
        "        \n",
        "        filepath = model_name + 'model-{epoch:05d}-{loss:.5f}-{categorical_accuracy:.5f}-{val_loss:.5f}-{val_categorical_accuracy:.5f}.h5'\n",
        "\n",
        "        checkpoint = ModelCheckpoint(filepath, monitor='val_loss', verbose=1, save_best_only=False, save_weights_only=False, mode='auto', period=1)\n",
        "        LR = ReduceLROnPlateau(monitor='val_loss', factor=0.2, verbose=1, patience=4)\n",
        "        callbacks_list = [checkpoint, LR]\n",
        "\n",
        "        if (self.num_train_sequences%self.batch_size) == 0:\n",
        "            steps_per_epoch = int(self.num_train_sequences/self.batch_size)\n",
        "        else:\n",
        "            steps_per_epoch = (self.num_train_sequences//self.batch_size) + 1\n",
        "\n",
        "        if (self.num_val_sequences%self.batch_size) == 0:\n",
        "            validation_steps = int(self.num_val_sequences/self.batch_size)\n",
        "        else:\n",
        "            validation_steps = (self.num_val_sequences//self.batch_size) + 1\n",
        "    \n",
        "        history=model.fit_generator(train_generator, steps_per_epoch=steps_per_epoch, epochs=self.num_epochs, verbose=1, \n",
        "                            callbacks=callbacks_list, validation_data=val_generator, \n",
        "                            validation_steps=validation_steps, class_weight=None, workers=1, initial_epoch=0)\n",
        "        return history\n",
        "\n",
        "        \n",
        "    @abc.abstractmethod\n",
        "    def define_model(self):\n",
        "        pass"
      ],
      "execution_count": null,
      "outputs": []
    },
    {
      "cell_type": "markdown",
      "metadata": {
        "id": "9LGZ1pJe1_GM"
      },
      "source": [
        "## Training"
      ]
    },
    {
      "cell_type": "code",
      "metadata": {
        "id": "NXj22lxm-Alh",
        "colab": {
          "base_uri": "https://localhost:8080/"
        },
        "outputId": "2bad2b34-938a-4826-d278-88f534144b7f"
      },
      "source": [
        "mobilenet_transfer = mobilenet.MobileNet(weights='imagenet', include_top=False, input_shape=(200, 200, 3))\n",
        "\n",
        "class PM1(CMAugmentation):\n",
        "    \n",
        "    def define_model(self,dense_neurons=64,dropout=0.25):\n",
        "        \n",
        "        model = Sequential()\n",
        "        model.add(mobilenet_transfer)\n",
        " \n",
        "        model.add(BatchNormalization())\n",
        "        model.add(MaxPooling2D((2, 2)))\n",
        "        model.add(Flatten())\n",
        "        \n",
        "        model.add(Dense(dense_neurons,activation='relu'))\n",
        "        model.add(Dropout(dropout))\n",
        "        \n",
        "        model.add(Dense(self.num_classes, activation='softmax'))\n",
        "        \n",
        "        optimiser = optimizers.Adam()\n",
        "        model.compile(optimizer=optimiser, loss='categorical_crossentropy', metrics=['categorical_accuracy'])\n",
        "        return model"
      ],
      "execution_count": null,
      "outputs": [
        {
          "output_type": "stream",
          "text": [
            "WARNING:tensorflow:`input_shape` is undefined or non-square, or `rows` is not in [128, 160, 192, 224]. Weights for input shape (224, 224) will be loaded as the default.\n",
            "Downloading data from https://storage.googleapis.com/tensorflow/keras-applications/mobilenet/mobilenet_1_0_224_tf_no_top.h5\n",
            "17227776/17225924 [==============================] - 0s 0us/step\n"
          ],
          "name": "stdout"
        }
      ]
    },
    {
      "cell_type": "code",
      "metadata": {
        "colab": {
          "base_uri": "https://localhost:8080/"
        },
        "id": "STXUPtrO-vOE",
        "outputId": "e1749091-9740-479a-d3b2-0b576da0fc28"
      },
      "source": [
        "tpm1=PM1()\n",
        "tpm1.initialize_path()\n",
        "tpm1.initialize_image_properties(image_height=200,image_width=200)\n",
        "tpm1.initialize_hyperparams(batch_size=10,num_epochs=3)\n",
        "tpm1_model=tpm1.define_model(dense_neurons=128,dropout=0.25)\n",
        "tpm1_model.summary()"
      ],
      "execution_count": null,
      "outputs": [
        {
          "output_type": "stream",
          "text": [
            "Model: \"sequential_3\"\n",
            "_________________________________________________________________\n",
            "Layer (type)                 Output Shape              Param #   \n",
            "=================================================================\n",
            "mobilenet_1.00_224 (Function (None, 6, 6, 1024)        3228864   \n",
            "_________________________________________________________________\n",
            "batch_normalization_3 (Batch (None, 6, 6, 1024)        4096      \n",
            "_________________________________________________________________\n",
            "max_pooling2d_3 (MaxPooling2 (None, 3, 3, 1024)        0         \n",
            "_________________________________________________________________\n",
            "flatten_3 (Flatten)          (None, 9216)              0         \n",
            "_________________________________________________________________\n",
            "dense_6 (Dense)              (None, 128)               1179776   \n",
            "_________________________________________________________________\n",
            "dropout_3 (Dropout)          (None, 128)               0         \n",
            "_________________________________________________________________\n",
            "dense_7 (Dense)              (None, 29)                3741      \n",
            "=================================================================\n",
            "Total params: 4,416,477\n",
            "Trainable params: 4,392,541\n",
            "Non-trainable params: 23,936\n",
            "_________________________________________________________________\n"
          ],
          "name": "stdout"
        }
      ]
    },
    {
      "cell_type": "code",
      "metadata": {
        "id": "6BX88s5c-v6-",
        "colab": {
          "base_uri": "https://localhost:8080/"
        },
        "outputId": "e19c88f0-f40a-469f-d99f-9c28a6e57f3b"
      },
      "source": [
        "print(\"Total Params:\", tpm1_model.count_params())\n",
        "history_model20=tpm1.train_model(tpm1_model,augment_data=True)"
      ],
      "execution_count": null,
      "outputs": [
        {
          "output_type": "stream",
          "text": [
            "Total Params: 4416477\n",
            "WARNING:tensorflow:`period` argument is deprecated. Please use `save_freq` to specify the frequency in number of batches seen.\n",
            "Epoch 1/3\n",
            "12068/12068 [==============================] - 2995s 248ms/step - loss: 2.0444 - categorical_accuracy: 0.3714 - val_loss: 0.9857 - val_categorical_accuracy: 0.7230\n",
            "\n",
            "Epoch 00001: saving model to models/model_init_2021-04-0813_25_48.118025/model-00001-1.39819-0.54373-0.98566-0.72300.h5\n",
            "Epoch 2/3\n",
            "12068/12068 [==============================] - 2977s 247ms/step - loss: 0.4992 - categorical_accuracy: 0.8420 - val_loss: 0.4537 - val_categorical_accuracy: 0.8890\n",
            "\n",
            "Epoch 00002: saving model to models/model_init_2021-04-0813_25_48.118025/model-00002-0.39342-0.87913-0.45374-0.88900.h5\n",
            "Epoch 3/3\n",
            "12068/12068 [==============================] - 2946s 244ms/step - loss: 0.1912 - categorical_accuracy: 0.9456 - val_loss: 0.4659 - val_categorical_accuracy: 0.8940\n",
            "\n",
            "Epoch 00003: saving model to models/model_init_2021-04-0813_25_48.118025/model-00003-0.16938-0.95240-0.46589-0.89400.h5\n"
          ],
          "name": "stdout"
        }
      ]
    },
    {
      "cell_type": "code",
      "metadata": {
        "id": "8oESDXh_AUrV",
        "colab": {
          "base_uri": "https://localhost:8080/",
          "height": 265
        },
        "outputId": "8bb0de02-070f-4281-e9b4-3c939f1de8af"
      },
      "source": [
        "plot(history_model20)"
      ],
      "execution_count": null,
      "outputs": [
        {
          "output_type": "display_data",
          "data": {
            "image/png": "[encoded data removed]",
            "text/plain": [
              "<Figure size 1080x288 with 2 Axes>"
            ]
          },
          "metadata": {
            "tags": [],
            "needs_background": "light"
          }
        }
      ]
    },
    {
      "cell_type": "markdown",
      "metadata": {
        "id": "bCQZDG8zLHiY"
      },
      "source": [
        "## Testing"
      ]
    },
    {
      "cell_type": "code",
      "metadata": {
        "id": "EFgzpchfSZeg"
      },
      "source": [
        "model = load_model('model-00002-0.39342-0.87913-0.45374-0.88900.h5')\n",
        "\n",
        "test_generator=PM1()\n",
        "test_generator.initialize_path()\n",
        "test_generator.initialize_image_properties(image_height=200,image_width=200)\n",
        "test_generator.initialize_hyperparams(batch_size=5,num_epochs=3)\n",
        "\n",
        "g=test_generator.generator(test_generator.val_path,test_generator.val_doc,augment=False)\n",
        "batch_data, batch_labels=next(g)"
      ],
      "execution_count": null,
      "outputs": []
    },
    {
      "cell_type": "code",
      "metadata": {
        "id": "hH_SrrzgSZeg"
      },
      "source": [
        "batch_labels"
      ],
      "execution_count": null,
      "outputs": []
    },
    {
      "cell_type": "code",
      "metadata": {
        "id": "3PVN969sSZeg"
      },
      "source": [
        "print(np.argmax(model.predict(batch_data[:,:,:,:]),axis=1))"
      ],
      "execution_count": null,
      "outputs": []
    },
    {
      "cell_type": "code",
      "metadata": {
        "id": "S9ovIypAyZeo"
      },
      "source": [
        ""
      ],
      "execution_count": null,
      "outputs": []
    }
  ]
}